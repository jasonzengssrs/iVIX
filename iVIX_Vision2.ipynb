{
 "cells": [
  {
   "cell_type": "code",
   "execution_count": 1,
   "id": "ad8156ad",
   "metadata": {},
   "outputs": [],
   "source": [
    "from datetime import datetime\n",
    "import numpy as np\n",
    "import pandas as pd\n",
    "from scipy import interpolate\n",
    "import matplotlib.pyplot as plt"
   ]
  },
  {
   "cell_type": "code",
   "execution_count": 2,
   "id": "b07acf33",
   "metadata": {},
   "outputs": [],
   "source": [
    "shibor_rate = pd.read_csv('C:/Users/hello world/ivix-master/shibor.csv',index_col=0,encoding='GBK')\n",
    "options_data = pd.read_csv('C:/Users/hello world/ivix-master/options.csv',index_col=0,encoding='GBK')\n",
    "tradeday = pd.read_csv('C:/Users/hello world/ivix-master/tradeday.csv',encoding='GBK')\n",
    "true_ivix = pd.read_csv('C:/Users/hello world/ivix-master/ivixx.csv',encoding='GBK')"
   ]
  },
  {
   "cell_type": "code",
   "execution_count": 3,
   "id": "01089ac9",
   "metadata": {},
   "outputs": [],
   "source": [
    "vixDate = '2017/12/28'"
   ]
  },
  {
   "cell_type": "code",
   "execution_count": 4,
   "id": "12b1b2c5",
   "metadata": {
    "scrolled": false
   },
   "outputs": [],
   "source": [
    "# options_data "
   ]
  },
  {
   "cell_type": "code",
   "execution_count": 5,
   "id": "38726e4c",
   "metadata": {},
   "outputs": [],
   "source": [
    "def getHistDayOptions(vixDate,options_data):\n",
    "    options_data = options_data.loc[vixDate,:]\n",
    "    return options_data"
   ]
  },
  {
   "cell_type": "code",
   "execution_count": 6,
   "id": "47f907fd",
   "metadata": {},
   "outputs": [],
   "source": [
    "def getNearNextOptExpDate(options, vixDate):\n",
    "    \"\"\"\n",
    "    找到options中的当月和次月期权到期日；\n",
    "    用这两个期权隐含的未来波动率来插值计算未来30隐含波动率，是为市场恐慌指数VIX；\n",
    "    如果options中的最近到期期权离到期日仅剩1天以内，则抛弃这一期权，改\n",
    "    选择次月期权和次月期权之后第一个到期的期权来计算。\n",
    "    返回的near和next就是用来计算VIX的两个期权的到期日\n",
    "    \n",
    "    params: options: 该date为交易日的所有期权合约的基本信息和价格信息\n",
    "            vixDate: VIX的计算日期\n",
    "    return: near: 当月合约到期日（ps：大于1天到期）\n",
    "            next：次月合约到期日\n",
    "    \"\"\"\n",
    "    vixDate = datetime.strptime(vixDate,'%Y/%m/%d')\n",
    "    optionsExpDate = options.EXE_ENDDATE.unique().tolist()\n",
    "    optionsExpDate = [datetime.strptime(i,'%Y/%m/%d %H:%M') for i in optionsExpDate]\n",
    "    \n",
    "    near = min(optionsExpDate)\n",
    "    optionsExpDate.remove(near)\n",
    "    \n",
    "    if (near - vixDate).days < 5:\n",
    "        near = min(optionsExpDate)\n",
    "        optionsExpDate.remove(near)\n",
    "    nt = min(optionsExpDate)\n",
    "    return near, nt"
   ]
  },
  {
   "cell_type": "code",
   "execution_count": 7,
   "id": "df4c937e",
   "metadata": {},
   "outputs": [],
   "source": [
    "def periodsSplineRiskFreeInterestRate(options, date):\n",
    "    \"\"\"\n",
    "    params: options: 计算VIX的当天的options数据用来获取expDate\n",
    "            date: 计算哪天的VIX\n",
    "    return：shibor：该date到每个到期日exoDate的risk free rate\n",
    "\n",
    "    \"\"\"\n",
    "    date = datetime.strptime(date,'%Y/%m/%d')\n",
    "    #date = datetime(date.year,date.month,date.day)\n",
    "    \n",
    "    # experation date\n",
    "    exp_dates = np.sort(options.EXE_ENDDATE.unique())\n",
    "    periods = {}\n",
    "    for epd in exp_dates:\n",
    "        epd = pd.to_datetime(epd)\n",
    "        periods[epd] = (epd - date).days*1.0/365.0\n",
    "        \n",
    "    shibor_date = datetime.strptime(shibor_rate.index[0], \"%Y-%m-%d\") \n",
    "    if date >= shibor_date:\n",
    "        date_str = shibor_rate.index[0]\n",
    "        shibor_values = shibor_rate.ix[0].values\n",
    "        #shibor_values = np.asarray(list(map(float,shibor_values)))\n",
    "    else:\n",
    "        date_str = date.strftime(\"%Y-%m-%d\") \n",
    "        shibor_values = shibor_rate.loc[date_str].values\n",
    "        #shibor_values = np.asarray(list(map(float,shibor_values)))\n",
    "        \n",
    "    shibor = {}\n",
    "    period = np.asarray([1.0, 7.0, 14.0, 30.0, 90.0, 180.0, 270.0, 360.0]) / 360.0\n",
    "    min_period = min(period)\n",
    "    max_period = max(period)\n",
    "    for p in periods.keys():\n",
    "        tmp = periods[p]\n",
    "        if periods[p] > max_period:\n",
    "            tmp = max_period * 0.99999\n",
    "        elif periods[p] < min_period:\n",
    "            tmp = min_period * 1.00001\n",
    "        # 此处使用SHIBOR来插值\n",
    "        f = interpolate.interp1d(period, shibor_values,'cubic')\n",
    "        sh = f(tmp)\n",
    "        shibor[p] = sh/100.0\n",
    "    return shibor"
   ]
  },
  {
   "cell_type": "code",
   "execution_count": 8,
   "id": "faca0708",
   "metadata": {},
   "outputs": [],
   "source": [
    "def changeste(t):\n",
    "    if t.month>=10:\n",
    "        str_t = t.strftime('%Y/%m/%d ')+'0:00'\n",
    "    else:\n",
    "        str_t = t.strftime('%Y/%m/%d ')\n",
    "        str_t = str_t[:5]+str_t[6:]+'0:00'\n",
    "    return str_t"
   ]
  },
  {
   "cell_type": "code",
   "execution_count": 9,
   "id": "86c7586f",
   "metadata": {},
   "outputs": [],
   "source": [
    "def getStrikeMinCallMinusPutClosePrice(options):\n",
    "    # options 中包括计算某日VIX的call和put两种期权，\n",
    "    # 对每个行权价，计算相应的call和put的价格差的绝对值，\n",
    "    # 返回这一价格差的绝对值最小的那个行权价，\n",
    "    # 并返回该行权价对应的call和put期权价格的差\n",
    "    \"\"\"\n",
    "    params:options: 该date为交易日的所有期权合约的基本信息和价格信息\n",
    "    return: strike: 看涨合约价格-看跌合约价格 的差值的绝对值最小的行权价\n",
    "            priceDiff: 以及这个差值，这个是用来确定中间行权价的第一步\n",
    "    \"\"\"\n",
    "    call = options[options.EXE_MODE==u\"认购\"].set_index(u\"EXE_PRICE\").sort_index()\n",
    "    put  = options[options.EXE_MODE==u\"认沽\"].set_index(u\"EXE_PRICE\").sort_index()\n",
    "    callMinusPut = call.CLOSE - put.CLOSE\n",
    "    strike = abs(callMinusPut).idxmin()\n",
    "    priceDiff = callMinusPut[strike].min()\n",
    "    return strike, priceDiff\n"
   ]
  },
  {
   "cell_type": "code",
   "execution_count": 10,
   "id": "36b60caa",
   "metadata": {},
   "outputs": [],
   "source": [
    "def calSigmaSquare( options, FF, R, T):\n",
    "    # 计算某个到期日期权对于VIX的贡献sigma；\n",
    "    # 输入为期权数据options，FF为forward index price，\n",
    "    # R为无风险利率， T为期权剩余到期时间\n",
    "    \"\"\"\n",
    "    params: options:该date为交易日的所有期权合约的基本信息和价格信息\n",
    "            FF: 根据上一步计算得来的strike，然后再计算得到的forward index price， 根据它对所需要的看涨看跌合约进行划分。\n",
    "                取小于FF的第一个行权价为中间行权价K0， 然后选取大于等于K0的所有看涨合约， 选取小于等于K0的所有看跌合约。\n",
    "                对行权价为K0的看涨看跌合约，删除看涨合约，不过看跌合约的价格为两者的均值。\n",
    "            R： 这部分期权合约到期日对应的无风险利率 shibor\n",
    "            T： 还有多久到期（年化）\n",
    "    return：Sigma：得到的结果是传入该到期日数据的Sigma\n",
    "    \"\"\"\n",
    "    callAll = options[options.EXE_MODE==u\"认购\"].set_index(u\"EXE_PRICE\").sort_index()\n",
    "    putAll  = options[options.EXE_MODE==u\"认沽\"].set_index(u\"EXE_PRICE\").sort_index()\n",
    "    callAll['deltaK'] = 0.05\n",
    "    putAll['deltaK']  = 0.05\n",
    "    \n",
    "    # Interval between strike prices\n",
    "    index = callAll.index\n",
    "    if len(index) < 3:\n",
    "        callAll['deltaK'] = index[-1] - index[0]\n",
    "    else:\n",
    "        for i in range(1,len(index)-1):\n",
    "            #callAll['deltaK'].ix[index[i]] = (index[i+1]-index[i-1])/2.0\n",
    "            callAll.loc[index[i],'deltaK'] = (index[i+1]-index[i-1])/2.0\n",
    "        callAll.loc[index[0],'deltaK']  = index[1]-index[0]\n",
    "        callAll.loc[index[-1],'deltaK']  = index[-1] - index[-2]\n",
    "        \n",
    "        \n",
    "    index = putAll.index\n",
    "    if len(index) < 3:\n",
    "        putAll['deltaK'] = index[-1] - index[0]\n",
    "    else:\n",
    "        for i in range(1,len(index)-1):\n",
    "            putAll.loc[index[i],'deltaK'] = (index[i+1]-index[i-1])/2.0\n",
    "        putAll.loc[index[0],'deltaK'] = index[1]-index[0]\n",
    "        putAll.loc[index[-1],'deltaK'] = index[-1] - index[-2]   \n",
    "    \n",
    "    \n",
    "    call = callAll[callAll.index > FF].copy()\n",
    "    put  = putAll[putAll.index < FF].copy()\n",
    "#     FF_idx = FF\n",
    "    \n",
    "    if put.empty:\n",
    "        FF_idx = call.index[0]\n",
    "        callComponent = call.CLOSE*call.deltaK/call.index/call.index\n",
    "        sigma = (sum(callComponent))*np.exp(T*R)*2/T\n",
    "        sigma = sigma - (FF/FF_idx - 1)**2/T\n",
    "    elif call.empty:\n",
    "        FF_idx = put.index[-1]\n",
    "        putComponent = put.CLOSE*put.deltaK/put.index/put.index\n",
    "        sigma = (sum(putComponent))*np.exp(T*R)*2/T\n",
    "        sigma = sigma - (FF/FF_idx - 1)**2/T\n",
    "    else:\n",
    "        FF_idx = put.index[-1]\n",
    "        \n",
    "        put.loc[FF_idx,'CLOSE'] = (putAll.loc[FF_idx,'CLOSE'] + callAll.loc[FF_idx,'CLOSE'])/2.0\n",
    "\n",
    "        callComponent = call.CLOSE*call.deltaK/call.index/call.index\n",
    "        putComponent  = put.CLOSE*put.deltaK/put.index/put.index\n",
    "        sigma = (sum(callComponent)+sum(putComponent))*np.exp(T*R)*2/T\n",
    "        sigma = sigma - (FF/FF_idx - 1)**2/T\n",
    "    return sigma"
   ]
  },
  {
   "cell_type": "code",
   "execution_count": 11,
   "id": "0dab7cfc",
   "metadata": {},
   "outputs": [],
   "source": [
    "def calDayVIX(vixDate):\n",
    "    # 利用CBOE的计算方法，计算历史某一日的未来30日期权波动率指数VIX\n",
    "    \"\"\"\n",
    "    params：vixDate：计算VIX的日期  '%Y/%m/%d' 字符串格式\n",
    "    return：VIX结果\n",
    "    \"\"\"\n",
    "\n",
    "    # 拿取所需期权信息\n",
    "    options = getHistDayOptions(vixDate,options_data)\n",
    "    near, nexts = getNearNextOptExpDate(options, vixDate)\n",
    "    shibor = periodsSplineRiskFreeInterestRate(options, vixDate)\n",
    "    R_near = shibor[datetime(near.year,near.month,near.day)]\n",
    "    R_next = shibor[datetime(nexts.year,nexts.month,nexts.day)]\n",
    "    \n",
    "    str_near = changeste(near)\n",
    "    str_nexts = changeste(nexts)\n",
    "    optionsNearTerm = options[options.EXE_ENDDATE == str_near]\n",
    "    optionsNextTerm = options[options.EXE_ENDDATE == str_nexts]\n",
    "    # time to expiration\n",
    "    vixDate = datetime.strptime(vixDate,'%Y/%m/%d')\n",
    "    T_near = (near - vixDate).days/365.0\n",
    "    T_next = (nexts- vixDate).days/365.0\n",
    "    # the forward index prices\n",
    "    nearPriceDiff = getStrikeMinCallMinusPutClosePrice(optionsNearTerm)\n",
    "    nextPriceDiff = getStrikeMinCallMinusPutClosePrice(optionsNextTerm)\n",
    "    near_F = nearPriceDiff[0] + np.exp(T_near*R_near)*nearPriceDiff[1]\n",
    "    next_F = nextPriceDiff[0] + np.exp(T_next*R_next)*nextPriceDiff[1]\n",
    "    # 计算不同到期日期权对于VIX的贡献\n",
    "    near_sigma = calSigmaSquare(optionsNearTerm, near_F, R_near, T_near)\n",
    "    next_sigma = calSigmaSquare(optionsNextTerm, next_F, R_next, T_next)\n",
    "\n",
    "    # 利用两个不同到期日的期权对VIX的贡献sig1和sig2，\n",
    "    # 已经相应的期权剩余到期时间T1和T2；\n",
    "    # 差值得到并返回VIX指数(%)\n",
    "    w = (T_next - 30.0/365.0)/(T_next - T_near)\n",
    "    vix = T_near*w*near_sigma + T_next*(1 - w)*next_sigma\n",
    "    return 100*np.sqrt(abs(vix)*365.0/30.0)"
   ]
  },
  {
   "cell_type": "code",
   "execution_count": 12,
   "id": "b51dffd4",
   "metadata": {},
   "outputs": [
    {
     "ename": "NameError",
     "evalue": "name 'shibor_rate' is not defined",
     "output_type": "error",
     "traceback": [
      "\u001b[1;31m---------------------------------------------------------------------------\u001b[0m",
      "\u001b[1;31mNameError\u001b[0m                                 Traceback (most recent call last)",
      "\u001b[1;32m~\\AppData\\Local\\Temp\\ipykernel_14424\\2542908602.py\u001b[0m in \u001b[0;36m<module>\u001b[1;34m\u001b[0m\n\u001b[1;32m----> 1\u001b[1;33m \u001b[0mcalDayVIX\u001b[0m\u001b[1;33m(\u001b[0m\u001b[0mvixDate\u001b[0m\u001b[1;33m)\u001b[0m\u001b[1;33m\u001b[0m\u001b[1;33m\u001b[0m\u001b[0m\n\u001b[0m",
      "\u001b[1;32m~\\AppData\\Local\\Temp\\ipykernel_14424\\424671317.py\u001b[0m in \u001b[0;36mcalDayVIX\u001b[1;34m(vixDate)\u001b[0m\n\u001b[0;32m      9\u001b[0m     \u001b[0moptions\u001b[0m \u001b[1;33m=\u001b[0m \u001b[0mgetHistDayOptions\u001b[0m\u001b[1;33m(\u001b[0m\u001b[0mvixDate\u001b[0m\u001b[1;33m,\u001b[0m\u001b[0moption_data\u001b[0m\u001b[1;33m)\u001b[0m\u001b[1;33m\u001b[0m\u001b[1;33m\u001b[0m\u001b[0m\n\u001b[0;32m     10\u001b[0m     \u001b[0mnear\u001b[0m\u001b[1;33m,\u001b[0m \u001b[0mnexts\u001b[0m \u001b[1;33m=\u001b[0m \u001b[0mgetNearNextOptExpDate\u001b[0m\u001b[1;33m(\u001b[0m\u001b[0moptions\u001b[0m\u001b[1;33m,\u001b[0m \u001b[0mvixDate\u001b[0m\u001b[1;33m)\u001b[0m\u001b[1;33m\u001b[0m\u001b[1;33m\u001b[0m\u001b[0m\n\u001b[1;32m---> 11\u001b[1;33m     \u001b[0mshibor\u001b[0m \u001b[1;33m=\u001b[0m \u001b[0mperiodsSplineRiskFreeInterestRate\u001b[0m\u001b[1;33m(\u001b[0m\u001b[0moptions\u001b[0m\u001b[1;33m,\u001b[0m \u001b[0mvixDate\u001b[0m\u001b[1;33m)\u001b[0m\u001b[1;33m\u001b[0m\u001b[1;33m\u001b[0m\u001b[0m\n\u001b[0m\u001b[0;32m     12\u001b[0m     \u001b[0mR_near\u001b[0m \u001b[1;33m=\u001b[0m \u001b[0mshibor\u001b[0m\u001b[1;33m[\u001b[0m\u001b[0mdatetime\u001b[0m\u001b[1;33m(\u001b[0m\u001b[0mnear\u001b[0m\u001b[1;33m.\u001b[0m\u001b[0myear\u001b[0m\u001b[1;33m,\u001b[0m\u001b[0mnear\u001b[0m\u001b[1;33m.\u001b[0m\u001b[0mmonth\u001b[0m\u001b[1;33m,\u001b[0m\u001b[0mnear\u001b[0m\u001b[1;33m.\u001b[0m\u001b[0mday\u001b[0m\u001b[1;33m)\u001b[0m\u001b[1;33m]\u001b[0m\u001b[1;33m\u001b[0m\u001b[1;33m\u001b[0m\u001b[0m\n\u001b[0;32m     13\u001b[0m     \u001b[0mR_next\u001b[0m \u001b[1;33m=\u001b[0m \u001b[0mshibor\u001b[0m\u001b[1;33m[\u001b[0m\u001b[0mdatetime\u001b[0m\u001b[1;33m(\u001b[0m\u001b[0mnexts\u001b[0m\u001b[1;33m.\u001b[0m\u001b[0myear\u001b[0m\u001b[1;33m,\u001b[0m\u001b[0mnexts\u001b[0m\u001b[1;33m.\u001b[0m\u001b[0mmonth\u001b[0m\u001b[1;33m,\u001b[0m\u001b[0mnexts\u001b[0m\u001b[1;33m.\u001b[0m\u001b[0mday\u001b[0m\u001b[1;33m)\u001b[0m\u001b[1;33m]\u001b[0m\u001b[1;33m\u001b[0m\u001b[1;33m\u001b[0m\u001b[0m\n",
      "\u001b[1;32m~\\AppData\\Local\\Temp\\ipykernel_14424\\1410044834.py\u001b[0m in \u001b[0;36mperiodsSplineRiskFreeInterestRate\u001b[1;34m(options, date)\u001b[0m\n\u001b[0;32m     16\u001b[0m         \u001b[0mperiods\u001b[0m\u001b[1;33m[\u001b[0m\u001b[0mepd\u001b[0m\u001b[1;33m]\u001b[0m \u001b[1;33m=\u001b[0m \u001b[1;33m(\u001b[0m\u001b[0mepd\u001b[0m \u001b[1;33m-\u001b[0m \u001b[0mdate\u001b[0m\u001b[1;33m)\u001b[0m\u001b[1;33m.\u001b[0m\u001b[0mdays\u001b[0m\u001b[1;33m*\u001b[0m\u001b[1;36m1.0\u001b[0m\u001b[1;33m/\u001b[0m\u001b[1;36m365.0\u001b[0m\u001b[1;33m\u001b[0m\u001b[1;33m\u001b[0m\u001b[0m\n\u001b[0;32m     17\u001b[0m \u001b[1;33m\u001b[0m\u001b[0m\n\u001b[1;32m---> 18\u001b[1;33m     \u001b[0mshibor_date\u001b[0m \u001b[1;33m=\u001b[0m \u001b[0mdatetime\u001b[0m\u001b[1;33m.\u001b[0m\u001b[0mstrptime\u001b[0m\u001b[1;33m(\u001b[0m\u001b[0mshibor_rate\u001b[0m\u001b[1;33m.\u001b[0m\u001b[0mindex\u001b[0m\u001b[1;33m[\u001b[0m\u001b[1;36m0\u001b[0m\u001b[1;33m]\u001b[0m\u001b[1;33m,\u001b[0m \u001b[1;34m\"%Y-%m-%d\"\u001b[0m\u001b[1;33m)\u001b[0m\u001b[1;33m\u001b[0m\u001b[1;33m\u001b[0m\u001b[0m\n\u001b[0m\u001b[0;32m     19\u001b[0m     \u001b[1;32mif\u001b[0m \u001b[0mdate\u001b[0m \u001b[1;33m>=\u001b[0m \u001b[0mshibor_date\u001b[0m\u001b[1;33m:\u001b[0m\u001b[1;33m\u001b[0m\u001b[1;33m\u001b[0m\u001b[0m\n\u001b[0;32m     20\u001b[0m         \u001b[0mdate_str\u001b[0m \u001b[1;33m=\u001b[0m \u001b[0mshibor_rate\u001b[0m\u001b[1;33m.\u001b[0m\u001b[0mindex\u001b[0m\u001b[1;33m[\u001b[0m\u001b[1;36m0\u001b[0m\u001b[1;33m]\u001b[0m\u001b[1;33m\u001b[0m\u001b[1;33m\u001b[0m\u001b[0m\n",
      "\u001b[1;31mNameError\u001b[0m: name 'shibor_rate' is not defined"
     ]
    }
   ],
   "source": [
    "calDayVIX(vixDate)"
   ]
  },
  {
   "cell_type": "code",
   "execution_count": null,
   "id": "45a6a5c5",
   "metadata": {
    "scrolled": true
   },
   "outputs": [],
   "source": [
    "ivix = []\n",
    "for day in tradeday['DateTime']:\n",
    "    ivix.append(calDayVIX(day))"
   ]
  },
  {
   "cell_type": "code",
   "execution_count": null,
   "id": "745d4cf8",
   "metadata": {
    "scrolled": true
   },
   "outputs": [],
   "source": [
    "fig,ax = plt.subplots(figsize=(40,14))\n",
    "ax.plot(pd.to_datetime(tradeday['DateTime']),ivix)\n",
    "ax.plot(pd.to_datetime(tradeday['DateTime']),true_ivix[u'收盘价(元)'].tolist(),color = \"r\")\n",
    "plt.show()"
   ]
  },
  {
   "cell_type": "code",
   "execution_count": null,
   "id": "80f6adf5",
   "metadata": {},
   "outputs": [],
   "source": []
  },
  {
   "cell_type": "code",
   "execution_count": null,
   "id": "1f4c4294",
   "metadata": {},
   "outputs": [],
   "source": []
  },
  {
   "cell_type": "code",
   "execution_count": null,
   "id": "59b625f3",
   "metadata": {},
   "outputs": [],
   "source": []
  }
 ],
 "metadata": {
  "kernelspec": {
   "display_name": "Python 3 (ipykernel)",
   "language": "python",
   "name": "python3"
  },
  "language_info": {
   "codemirror_mode": {
    "name": "ipython",
    "version": 3
   },
   "file_extension": ".py",
   "mimetype": "text/x-python",
   "name": "python",
   "nbconvert_exporter": "python",
   "pygments_lexer": "ipython3",
   "version": "3.9.13"
  }
 },
 "nbformat": 4,
 "nbformat_minor": 5
}
